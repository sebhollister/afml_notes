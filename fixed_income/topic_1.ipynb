{
 "cells": [
  {
   "cell_type": "markdown",
   "metadata": {},
   "source": [
    "# Topic_1"
   ]
  },
  {
   "cell_type": "markdown",
   "metadata": {},
   "source": [
    "## Bond Issuers\n",
    "### Government Securities:\n",
    "* **Treasury Bills**:\n",
    "    * Pure discount securities placed through auction <- No discount, just sold less then discount then jumps to face value at maturity (risk is default risk)\n",
    "    * Maturity 13,26,52 week\n",
    "        \n",
    "* **Treasury Notes and Bonds**:\n",
    "     * Half coupon paid semi-annually\n",
    "     * Maturity 2,3,5,7,10 (notes) and 30 year(bonds)\n",
    "     * Sold in denominations of $1000\n",
    "     * US gov no longer issues callable bonds\n",
    "     \n",
    "### Gov Agencies\n",
    "* Issuers:\n",
    "    * Federal National Mortgage Association (Fannie Mae)\n",
    "    * Federal Home Loan Bank System (FHLBS)\n",
    "    * Federal Home Loan Mortgage Corp (Freddie Mac)\n",
    "    * Farm Credit System (FCS)\n",
    "    * Student Loan Marketing Association (Sallie Mae)\n",
    "* Features:\n",
    "    * Agencies created to fulfill a public purpose (make housing more affordable / lower interest rates on mortgages <- freddie mac, but now they sell mortgages on secondary market)\n",
    "    * The debt of most agencies is not guaranteed by US gov\n",
    "    \n",
    "### Municipal Bonds\n",
    "* Issued by state and local governments\n",
    "    * Exempt from federal income tax\n",
    "    * Exempt from state local tax\n",
    "* Types:\n",
    "    * General Obligation Bonds: backed by the issuer (taxing power)\n",
    "    * Revenue Bonds (riskier): issued to finance specific projects (airports, hospitals, etc)\n",
    "\n",
    "### Corporate Bonds\n",
    "* Bonds issued by coporation\n",
    "* Semi-annual coupons\n",
    "* Subjective to default risk\n",
    "* Seniorirty Classes:\n",
    "    * Secured Bonds: secured by an asset used as collateral\n",
    "    * Subordinated debentures: lower \"tranche\", still above stock holders\n",
    "* Preferred Stocks\n",
    "    * \"Promises\" fixed dividend = coupon rate\n",
    "    * If dividend not paid, doesn't matter. Can't force bankruptcy\n",
    "\n",
    "    \n"
   ]
  },
  {
   "cell_type": "code",
   "execution_count": null,
   "metadata": {},
   "outputs": [],
   "source": []
  }
 ],
 "metadata": {
  "kernelspec": {
   "display_name": "Python 3",
   "language": "python",
   "name": "python3"
  },
  "language_info": {
   "codemirror_mode": {
    "name": "ipython",
    "version": 3
   },
   "file_extension": ".py",
   "mimetype": "text/x-python",
   "name": "python",
   "nbconvert_exporter": "python",
   "pygments_lexer": "ipython3",
   "version": "3.7.2"
  }
 },
 "nbformat": 4,
 "nbformat_minor": 4
}
