{
 "cells": [
  {
   "cell_type": "markdown",
   "metadata": {},
   "source": [
    "# Chpt 2: Financial Data Structures"
   ]
  },
  {
   "cell_type": "markdown",
   "metadata": {},
   "source": [
    "## Standard Bars"
   ]
  },
  {
   "cell_type": "markdown",
   "metadata": {},
   "source": [
    "### Time Bars -sampled on min, hour, day etc:\n",
    "* Timestamp \n",
    "* Volume-weighted average price = avg price a security has traded at throughout the day based on both volume and price = (price * volume) / total volume. numerator is for every transaction\n",
    "* Open price\n",
    "* Close price\n",
    "* High price\n",
    "* Low price\n",
    "* Volume Trades\n",
    "\n",
    "Pros:\n",
    "* Extremely easy to obtain\n",
    "\n",
    "Cons: \n",
    "* Markets dont process info at constant time intervals. Mornings are more active etc\n",
    "* Time bars oversample low-activity periods and undersample high-activity periods\n",
    "* Shit statistical properties\n",
    "    * Serial Correlation: Errors in a given time period carry forward. Ex: overestimate in one year high dividends will carry over to the next\n",
    "    * Heteroscedasticity: The size of the error term differs across values of an independent variable\n",
    "    * Non-normality of returns \n",
    "    \n",
    "    "
   ]
  },
  {
   "cell_type": "markdown",
   "metadata": {},
   "source": [
    "### Tick Bars - sampled every x num of trades\n",
    "* Take a sample variable (timestamp, VWAP, open price etc) each time x **number of transactions (trades)** take place\n",
    "    * EX: Sample VWAP every 1000 trades (ticks) \n",
    "Pros:\n",
    "* Sampling as a function of number of transactions lets the returns be more IID (independent and identically distributed normal), which allows us to make gaussian assumptions\n",
    "* Instead of depending on each minute or each day, is instead based on every 1000 trades which better fits info processing of markets\n",
    "\n",
    "Cons:\n",
    "* Arbitariness in number of ticks\n",
    "* Ex: One order sitting in offer for 10 lots is one tick, but 10 orders of 1 lot are 10 ticks"
   ]
  },
  {
   "cell_type": "markdown",
   "metadata": {},
   "source": [
    "### Volume Bars - sampled every X amount of volume\n",
    "* Same as tick, but the variable is sampled every time X volume has been traded\n",
    "Pros:\n",
    "* Naturally describes relationship between volume and price (foundation for market microstructure theories)"
   ]
  },
  {
   "cell_type": "markdown",
   "metadata": {},
   "source": [
    "### Dollar Bars - sample every X amount of dollars exchanged\n",
    "* Represents the fact that number of shares traded is a function of actual value exchanged (if a stock price goes up 100% selling $1000 of the stock will require only selling half the num of shares as you bought)\n",
    "* When analysis involves signifigant price fluctuation, use dolar bars\n",
    "* Is robust to splits, buybacks etc which would impact volume bars"
   ]
  },
  {
   "cell_type": "code",
   "execution_count": null,
   "metadata": {},
   "outputs": [],
   "source": []
  },
  {
   "cell_type": "code",
   "execution_count": 2,
   "metadata": {},
   "outputs": [],
   "source": [
    "# Markdown guide Latex: https://towardsdatascience.com/write-markdown-latex-in-the-jupyter-notebook-10985edb91fd"
   ]
  },
  {
   "cell_type": "markdown",
   "metadata": {},
   "source": [
    "# Information Driven-Bars"
   ]
  },
  {
   "cell_type": "code",
   "execution_count": null,
   "metadata": {},
   "outputs": [],
   "source": []
  },
  {
   "cell_type": "markdown",
   "metadata": {},
   "source": [
    "## Tick Imbalance Bars - TIBS\n",
    "* Sequence of ticks $ \\left\\{(p_{t} , v_{t}) \\right\\}_{t=1,...,T}$\n",
    "* $ p_{t} $ is price associated with tick $ t $. Tick is minimum upward or downward movement in price of a security (transaction / trade)\n",
    "\n",
    "#### To Sign Ticks with Tick Rule:\n",
    "* **Tick Rule** - how to sign ticks to find imbalance:\n",
    "    * A sequence $ \\left\\{b_{t}\\right\\}_{t=1,...,T}$ where:\n",
    "\n",
    "$$\n",
    "b_{t} = \\left\\{\n",
    "    \\begin{array}\\\\\n",
    "         b_{t-1} & \\mbox{if } \\Delta p_{t} = 0 \\\\\n",
    "        \\frac{|\\Delta p_{t}|}{\\Delta p_{t}} \\ & \\mbox{if } \\ \\Delta p_{t} \\neq 0 \\\\\n",
    "    \\end{array}\n",
    "\\right.\n",
    "$$\n",
    "\n",
    "* This rule allows us to assign a value $ b_{t} \\in \\left\\{ -1,1 \\right\\} $ \n",
    "* This is \"signing\" the ticks based on change in price\n",
    "* The goal is to find a **tick imbalance** hence creating the Tick Imbalance Bars **TIBs** to sample whenever a tick imbalance exceeds expectations. \n",
    "* A tick imblance is given by the accumulation (sum) of signed ticks, to tick index $ T $. The accumulation will either be negative or positve, exceeding expectation and giving info\n",
    "\n",
    "##### To find Tick Imblance at time $ T $:\n",
    "* Sum of tick signs in period of time T: $\\theta_{T} $ = tick imbalance at time T ( Basically how positive (bullish) or negative (bearish) the sum of the ticks are in the period)\n",
    "$$\n",
    "\\theta_{T} = \\sum_{t=1}^{T} b_{t}$$\n",
    "How to determine $ T $\n",
    "\n",
    "1. Define Tick Imbalance at time T as $ \\theta_{T} = \\sum_{t=1}^{T} b_{t} $\n",
    "2. Compute the expected value of the tick imbalance (how positive or neg its expected to be) with\n",
    "    * $ E_{0}[\\theta_{T}]= E_{0}[T](2P[b_{t}=1] - 1)$\n",
    "    * ^ Can be broken down as Exp Value of Tick Imbalance = Expected size of tick bar * probabilities the tick was a buy or a sell\n",
    "    * In practice: $ E_{0}[\\theta_{T}] $ = avg size of previous bars * avg $b_{t} $ (value of sign of previous ticks) \n",
    "    \n",
    "3. Define size: A tick imbalance bar (TIB) as a T*-contiguous subset of ticks such that the following condition is met:\n",
    "    * $ T* = \\underset{T}{\\operatorname{argmin}} \\left\\{ |\\theta_{T}|  \\geq  E_{0}[T]|2P[b_{t}=1] - 1| \\right\\}$ \n",
    "    * Basically, Take the minimum size T where the tick imbalance $ \\theta_{T}$ for group of Ticks size T is $ \\geq $ expected value of the expected value of the tick imbalance for size T group of past\n",
    "\n",
    "#### Summary:\n",
    "* **Process**\n",
    "    1. Take in Raw ticks\n",
    "    2. Sign all the raw ticks with the tick rule\n",
    "    3. Find correct size T to make bar with\n",
    "* **Result**\n",
    "    * A **TIB (tick imbalance bar)** where each bar is a T size group of ticks where the tick imbalance (how + or - sum of signs is ) for size T is greater than the expected value for size a TIB size T (using past tick averages). Basically, **sample a group of ticks using the smallest size T (creating a TIB) when the tick imbalance is greater than expected for that size**\n",
    "    * Lower T = more samples\n",
    "    * A TIB is a bucket of trades containing equal information (regardless of volume, price, etc)\n",
    "    * When $ \\theta_{T} $ is more imbalanced, a smaller bucket size will be required (smaller T) and TIBS are generated more frequently. Hence TIBs are produced more frequently in the presence of informed trading (one-side imbalanced trading based on asymetric info traders have), and data sampling is synched with arrival of informed traders\n",
    " "
   ]
  },
  {
   "cell_type": "markdown",
   "metadata": {},
   "source": [
    "## Volume Imbalance Bars and Dollar Imbalance Bars (VIBs and DIBs)\n",
    "* Extends the concept of TIBS to volumne and dollar imbalance\n",
    "* Sample Bars when volume or dollar imbalance diverge from expectations\n",
    "\n",
    "### Calculate VIB or DIB\n",
    "* AFter applying tick rule to sign ticks, define imbalance as $$\\theta_{T} = \\sum_{t=1}^{T} b_{t}v_{t}$$\n",
    "* $ v_{t} $ can represent the number of securities traded (VIB) or dollar amount exchanged (DIB)\n",
    "* Calculate expected value of imblanace (dollar or volume):\n",
    "    * $ E_{0}[\\theta_{T}]= E_{0}[T](v^{+}-v^{-}) = E_{0}[T](2v^{+} - E_{0}[v_{t}])$\n",
    "        * ^ in practice, $ E_{0}[\\theta_{T}] $ = avg of T values from prior bar * avg of $ b_{t}v_{t} $ from prior bars\n",
    "* **Result**: A VIB or DIB is a T* contiguous subset of ticks such that:\n",
    "    * $ T* = \\underset{T}{\\operatorname{argmin}} \\left\\{ |\\theta_{T}|  \\geq  E_{0}[T]|2v^{+} - E_{0}[v_{t}]| \\right\\}$\n",
    "* **Conclusion**:\n",
    "    * Like TIBs, a VIB or DIB is a dynamically sized group of ticks with size T, where each bar is sampled when the dollar or volume imbalance is greater than the expected dollar or volume imbalance\n",
    "    * Is the information-based analogue of volume and dollar bars, in the way that is addressed concerns of tick fragmentation (one order of 10 lots is one tick, but 10 orders of 1 lot is 10 ticks)\n",
    "    * Robust to coporate actions bc info bars do not rely on constant bar size, theyre adjusted automatically"
   ]
  },
  {
   "cell_type": "markdown",
   "metadata": {},
   "source": [
    "## Tick Runs Bars - TRBs\n",
    "* TIBs, VIBs, and DIBs monitor order flow imbalance as measured in terms of ticks, volumes, and dollars exchanged\n",
    "* However, large traders will create runs using execution strategies like:\n",
    "    * Sweep the order book: Aggresively soak up all liquidity (sweep) the order book. Splits a huge trade into chunks, where each chunk takes all the liquidity availble at that price, then the next chunk takes all the liquidity at the next best price etc etc\n",
    "    * Iceberg Orders: large orders that are split up into lots or small sized limit orders to disguise big trade\n",
    "    * Other tactics to split parent order into multiple children\n",
    "* Because of these stratigies, it could be useful to monitor the **sequence** of buys in the overall volume and take samples when the sequence diverges from out estimates\n",
    "\n",
    "#### Process:\n",
    "1. Sign ticks using tick rule\n",
    "2. **Define length** of the current run as:\n",
    "$$\n",
    "\\theta_{T} = max \\left\\{ \\sum_{t|b_{t}=1}^{T} b_{t} , -\\sum_{t|b_{t}=-1}^{T} b_{t}  \\right\\}\n",
    "$$\n",
    "    * Basically saying, with length T, take the sum of the signs (all will be +1 and -1) and see if there's more +1s (buying run) or -1s (selling run)\n",
    "    * Notes: This definition of sequence allows for sequence breaks. Instead of measuing the longest seq, we count the number of ticks for each side (+1 or -1) which is a more useful definition\n",
    "3. **Compute expected value** of $ \\theta_{T} $:\n",
    "    * $ E_{0}[\\theta_{T}]$ = exp. weighted moving avg of T values from prior bars * exp weighted moving avg of proportion of buy ticks from prior bars\n",
    "4. **Define the TRB** as sample T ticks large where the length of the curr run is >= expected len of run for sample size T\n",
    "    * $ T* = \\underset{T}{\\operatorname{argmin}} \\left\\{ |\\theta_{T}|  \\geq  E_{0}[T] max(P[b_{t} = 1], 1-P[b_{t} = 1])\\right\\}$\n",
    "\n",
    "\n",
    "\n",
    "* Note: As with all information bars, a greater imbalance (when $ \\theta_{T} $ exhibits more runs than expected), will require a lower T will satisfy the conditions. So more info means more frequent samples"
   ]
  },
  {
   "cell_type": "markdown",
   "metadata": {},
   "source": [
    "### Volume / Dollar Runs Bars - VRBs and DRBs\n",
    "* Same as tick run Bars, but the idea is extended to volume or dollars exchanged.\n",
    "* **Goal:** to sample bars whenever the volumes or dollars traded by one side exceed expectations\n",
    "\n",
    "**Process**:\n",
    "1. After using tick rule to sign ticks, define the volumes or dollars associated with a run as ($ v_{t} $ can represent number of securities traded (VRB) or dollar amount traded (DRB):\n",
    "$$\n",
    "\\theta_{T} = max \\left\\{ \\sum_{t|b_{t}=1}^{T} b_{t}v_{t} , -\\sum_{t|b_{t}=-1}^{T} b_{t}v_{t}  \\right\\}\n",
    "$$\n",
    "2. Compute Expected Value of $ \\theta_{T} $:\n",
    "    *  $ E_{0}[\\theta_{T}]$ =  avg of T values from prior bars *  avg of proportion of buy ticks from prior bars * avg of buy volumes of previous bars * avg of proportion sell ticks ( 1- avg proportion of buy ticks) * avg volume of sell ticks\n",
    "3. Define a VRB as T*-contiguous subset of ticks such that the following condition is met:\n",
    "    * $\\theta_{T}$ >= expected value of $\\theta_{T}$ . The actual volume / dollars associated with a run is higher than the expected volume for the run."
   ]
  },
  {
   "cell_type": "markdown",
   "metadata": {},
   "source": [
    "  "
   ]
  },
  {
   "cell_type": "code",
   "execution_count": null,
   "metadata": {},
   "outputs": [],
   "source": []
  },
  {
   "cell_type": "markdown",
   "metadata": {},
   "source": [
    "## The ETF Trick\n",
    "* What if you want to deal with a spread vs single instrument? Example spread of futures\n",
    "    * **Problems**:\n",
    "        * Spread is a vector of weights that change over time, not a single weight\n",
    "        * Spread may converge even if the prices do not change soley bc of weights\n",
    "        * Spreads can have negative value, bc its not a price\n",
    "        * Trading doesn't always align for all contracts in the spread (liquidity)\n",
    "    * **Solution**:\n",
    "        * Produce a time series that reflects \\\\$1 invested in a spread\n",
    "        * This series can be used to model, generate signals, and trade as if it were an ETF\n",
    "* **Step 1: Data**:\n",
    "    * Using historical data in the form of bars, created from any of the above methods, each bar will contain:\n",
    "        * $ o_{i,t} $ : raw open price of instrument $ i = 1, ...  I $ at bar $ t = 1, ..., T $\n",
    "        * $ p_{i,t} $ : raw close price of instrument $ i = 1, ...  I $ at bar $ t = 1, ..., T $\n",
    "        * $ \\varphi_{i,t} $ : usd value of one point of instrument (including foreign exchange rate). Essentially finding cost scaled to pip $ i = 1, ...  I $ at bar $ t = 1, ..., T $\n",
    "            * <Cost of 1 point> = (Contract * (Price + One_Point)) - (Contract * Price)\n",
    "                * Contract – the contract size.\n",
    "                * Price – the current quote of the instrument.\n",
    "                * One_Point – the size of 1 point.(Usually 0.0001\n",
    "        * $ v_{i,t} $ : volume of instrument $ i = 1, ...  I $ at bar $ t = 1, ..., T $\n",
    "        * $ d_{i,t} $ : carry (some currency shit), dividend, or coupon paid by instrument $ i $ at bar $ t $. This variable can also be used to charge margin costs or costs of funding. \n",
    "        * All instruments ( $ i = 1, ... I $ ) are tradable at all bars ($ t = 1, ... ,T ). All instruments may not have been tradeable at every period of time, they were tradable at all the bars.\n"
   ]
  },
  {
   "cell_type": "markdown",
   "metadata": {},
   "source": [
    "* **Step 2: Calculate $ K_{t} $**\n",
    "* $ K_{t} $ is the value of \\\\$1usd in investment into the \"ETF\"\n",
    "* For a basket of futures characterized by allocation vectors $ \\omega_{t} $ rebalanced on bars $ B\\subseteq \\left\\{1,...,T \\right\\} $, the \\\\$1 investment value $ K_{t} $ is derived as:\n"
   ]
  },
  {
   "cell_type": "code",
   "execution_count": null,
   "metadata": {},
   "outputs": [],
   "source": []
  }
 ],
 "metadata": {
  "kernelspec": {
   "display_name": "Python 3",
   "language": "python",
   "name": "python3"
  },
  "language_info": {
   "codemirror_mode": {
    "name": "ipython",
    "version": 3
   },
   "file_extension": ".py",
   "mimetype": "text/x-python",
   "name": "python",
   "nbconvert_exporter": "python",
   "pygments_lexer": "ipython3",
   "version": "3.7.3"
  }
 },
 "nbformat": 4,
 "nbformat_minor": 2
}
