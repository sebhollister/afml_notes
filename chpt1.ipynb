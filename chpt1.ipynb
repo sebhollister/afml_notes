{
 "cells": [
  {
   "cell_type": "markdown",
   "metadata": {},
   "source": [
    "# Chpt 1: Financial Data Structures"
   ]
  },
  {
   "cell_type": "markdown",
   "metadata": {},
   "source": [
    "## Standard Bars"
   ]
  },
  {
   "cell_type": "markdown",
   "metadata": {},
   "source": [
    "### Time Bars -sampled on min, hour, day etc:\n",
    "* Timestamp \n",
    "* Volume-weighted average price = avg price a security has traded at throughout the day based on both volume and price = (price * volume) / total volume. numerator is for every transaction\n",
    "* Open price\n",
    "* Close price\n",
    "* High price\n",
    "* Low price\n",
    "* Volume Trades\n",
    "\n",
    "Pros:\n",
    "* Extremely easy to obtain\n",
    "\n",
    "Cons: \n",
    "* Markets dont process info at constant time intervals. Mornings are more active etc\n",
    "* Time bars oversample low-activity periods and undersample high-activity periods\n",
    "* Shit statistical properties\n",
    "    * Serial Correlation: Errors in a given time period carry forward. Ex: overestimate in one year high dividends will carry over to the next\n",
    "    * Heteroscedasticity: The size of the error term differs across values of an independent variable\n",
    "    * Non-normality of returns \n",
    "    \n",
    "    "
   ]
  },
  {
   "cell_type": "markdown",
   "metadata": {},
   "source": [
    "### Tick Bars - sampled every x num of trades\n",
    "* Take a sample variable (timestamp, VWAP, open price etc) each time x **number of transactions (trades)** take place\n",
    "    * EX: Sample VWAP every 1000 trades (ticks) \n",
    "Pros:\n",
    "* Sampling as a function of number of transactions lets the returns be more IID (independent and identically distributed normal), which allows us to make gaussian assumptions\n",
    "* Instead of depending on each minute or each day, is instead based on every 1000 trades which better fits info processing of markets\n",
    "\n",
    "Cons:\n",
    "* Arbitariness in number of ticks\n",
    "* Ex: One order sitting in offer for 10 lots is one tick, but 10 orders of 1 lot are 10 ticks"
   ]
  },
  {
   "cell_type": "markdown",
   "metadata": {},
   "source": [
    "### Volume Bars - sampled every X amount of volume\n",
    "* Same as tick, but the variable is sampled every time X volume has been traded\n",
    "Pros:\n",
    "* Naturally describes relationship between volume and price (foundation for market microstructure theories)"
   ]
  },
  {
   "cell_type": "markdown",
   "metadata": {},
   "source": [
    "### Dollar Bars - sample every X amount of dollars exchanged\n",
    "* Represents the fact that number of shares traded is a function of actual value exchanged (if a stock price goes up 100% selling $1000 of the stock will require only selling half the num of shares as you bought)\n",
    "* When analysis involves signifigant price fluctuation, use dolar bars\n",
    "* Is robust to splits, buybacks etc which would impact volume bars"
   ]
  },
  {
   "cell_type": "code",
   "execution_count": null,
   "metadata": {},
   "outputs": [],
   "source": []
  },
  {
   "cell_type": "code",
   "execution_count": 2,
   "metadata": {},
   "outputs": [],
   "source": [
    "# Markdown guide Latex: https://towardsdatascience.com/write-markdown-latex-in-the-jupyter-notebook-10985edb91fd"
   ]
  },
  {
   "cell_type": "markdown",
   "metadata": {},
   "source": [
    "## Information Driven-Bars"
   ]
  },
  {
   "cell_type": "code",
   "execution_count": null,
   "metadata": {},
   "outputs": [],
   "source": []
  },
  {
   "cell_type": "markdown",
   "metadata": {},
   "source": [
    "### Tick Imbalance Bars - TIBS\n",
    "* Sequence of ticks $ \\left\\{(p_{t} , v_{t}) \\right\\}_{t=1,...,T}$\n",
    "* $ p_{t} $ is price associated with tick $ t $. Tick is minimum upward or downward movement in price of a security (transaction / trade)\n",
    "\n",
    "#### To Sign Ticks with Tick Rule:\n",
    "* **Tick Rule** - how to sign ticks to find imbalance:\n",
    "    * A sequence $ \\left\\{b_{t}\\right\\}_{t=1,...,T}$ where:\n",
    "\n",
    "$$\n",
    "b_{t} = \\left\\{\n",
    "    \\begin{array}\\\\\n",
    "         b_{t-1} & \\mbox{if } \\Delta p_{t} = 0 \\\\\n",
    "        \\frac{|\\Delta p_{t}|}{\\Delta p_{t}} \\ & \\mbox{if } \\ \\Delta p_{t} \\neq 0 \\\\\n",
    "    \\end{array}\n",
    "\\right.\n",
    "$$\n",
    "\n",
    "* This rule allows us to assign a value $ b_{t} \\in \\left\\{ -1,1 \\right\\} $ \n",
    "* This is \"signing\" the ticks based on change in price\n",
    "* The goal is to find a **tick imbalance** hence creating the Tick Imbalance Bars **TIBs** to sample whenever a tick imbalance exceeds expectations. \n",
    "* A tick imblance is given by the accumulation (sum) of signed ticks, to tick index $ T $. The accumulation will either be negative or positve, exceeding expectation and giving info\n",
    "\n",
    "##### To find Tick Imblance at time $ T $:\n",
    "* Sum of tick signs in period of time T: $\\theta_{T} $ = tick imbalance at time T ( Basically how positive (bullish) or negative (bearish) the sum of the ticks are in the period)\n",
    "$$\n",
    "\\theta_{T} = \\sum_{t=1}^{T} b_{t}$$\n",
    "How to determine $ T $\n",
    "\n",
    "1. Define Tick Imbalance at time T as $ \\theta_{T} = \\sum_{t=1}^{T} b_{t} $\n",
    "2. Compute the expected value of the tick imbalance (how positive or neg its expected to be) with\n",
    "    * $ E_{0}[\\theta_{T}]= E_{0}[T](2P[b_{t}=1] - 1)$\n",
    "    * ^ Can be broken down as Exp Value of Tick Imbalance = Expected size of tick bar * probabilities the tick was a buy or a sell\n",
    "    * In practice: $ E_{0}[\\theta_{T}] $ = avg size of previous bars * avg $b_{t} $ (value of sign of previous ticks) \n",
    "    \n",
    "3. Define size: A tick imbalance bar (TIB) as a T*-contiguous subset of ticks such that the following condition is met:\n",
    "    * $ T* = \\underset{T}{\\operatorname{argmin}} \\left\\{ |\\theta_{T}|  \\geq  E_{0}[T]|2P[b_{t}=1] - 1| \\right\\}$ \n",
    "    * Basically, Take the minimum size T where the tick imbalance $ \\theta_{T}$ for group of Ticks size T is $ \\geq $ expected value of the expected value of the tick imbalance for size T group of past\n",
    "\n",
    "#### Summary:\n",
    "* **Process**\n",
    "    1. Take in Raw ticks\n",
    "    2. Sign all the raw ticks with the tick rule\n",
    "    3. Find correct size T to make bar with\n",
    "* **Result**\n",
    "    * A **TIB (tick imbalance bar)** where each bar is a T size group of ticks where the tick imbalance (how + or - sum of signs is ) for size T is greater than the expected value for size a TIB size T (using past tick averages). Basically, **sample a group of ticks using the smallest size T (creating a TIB) when the tick imbalance is greater than expected for that size**\n",
    "    * Lower T = more samples\n",
    "    * A TIB is a bucket of trades containing equal information (regardless of volume, price, etc)\n",
    "    * When $ \\theta_{T} $ is more imbalanced, a smaller bucket size will be required (smaller T) and TIBS are generated more frequently. Hence TIBs are produced more frequently in the presence of informed trading (one-side imbalanced trading based on asymetric info traders have), and data sampling is synched with arrival of informed traders\n",
    " "
   ]
  },
  {
   "cell_type": "code",
   "execution_count": null,
   "metadata": {},
   "outputs": [],
   "source": []
  }
 ],
 "metadata": {
  "kernelspec": {
   "display_name": "Python 3",
   "language": "python",
   "name": "python3"
  },
  "language_info": {
   "codemirror_mode": {
    "name": "ipython",
    "version": 3
   },
   "file_extension": ".py",
   "mimetype": "text/x-python",
   "name": "python",
   "nbconvert_exporter": "python",
   "pygments_lexer": "ipython3",
   "version": "3.7.3"
  }
 },
 "nbformat": 4,
 "nbformat_minor": 2
}
